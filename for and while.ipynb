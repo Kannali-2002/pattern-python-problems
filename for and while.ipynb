{
 "cells": [
  {
   "cell_type": "code",
   "execution_count": 3,
   "id": "d8c62295-991e-45d2-951a-9d877f1c92c5",
   "metadata": {},
   "outputs": [
    {
     "name": "stdout",
     "output_type": "stream",
     "text": [
      "*****\n",
      "*****\n",
      "*****\n",
      "*****\n"
     ]
    }
   ],
   "source": [
    "n = 5\n",
    "for i in range(1,n):\n",
    "    print(\"*\"*n)"
   ]
  },
  {
   "cell_type": "code",
   "execution_count": 12,
   "id": "38813ccc-0160-4af8-b3e6-9071ed7ff82c",
   "metadata": {},
   "outputs": [
    {
     "name": "stdout",
     "output_type": "stream",
     "text": [
      "*\n",
      "**\n",
      "***\n",
      "****\n",
      "*****\n",
      "*\n",
      "**\n",
      "***\n",
      "****\n",
      "*****\n",
      "*\n",
      "**\n",
      "***\n",
      "****\n",
      "*****\n",
      "*\n",
      "**\n",
      "***\n",
      "****\n",
      "*****\n",
      "*\n",
      "**\n",
      "***\n",
      "****\n",
      "*****\n"
     ]
    }
   ],
   "source": [
    "n0 = 1\n",
    "while n0<=5:\n",
    "    n = 1\n",
    "    while n<=5:\n",
    "        print(\"*\"*n)\n",
    "        n+=1\n",
    "    n0+=1\n",
    "        "
   ]
  },
  {
   "cell_type": "code",
   "execution_count": 11,
   "id": "8711d35e-030b-420e-bff6-47d4f49e077e",
   "metadata": {},
   "outputs": [
    {
     "name": "stdout",
     "output_type": "stream",
     "text": [
      "*****\n",
      "*****\n",
      "*****\n",
      "*****\n",
      "*****\n"
     ]
    }
   ],
   "source": [
    "\n",
    "while n<=5:\n",
    "    print(\"*\"*5)\n",
    "    n+=1"
   ]
  },
  {
   "cell_type": "code",
   "execution_count": 13,
   "id": "1680e080-475d-48a2-9204-453f4c550f99",
   "metadata": {},
   "outputs": [
    {
     "name": "stdout",
     "output_type": "stream",
     "text": [
      "1 2 3 4 5 \n",
      "1 2 3 4 5 \n",
      "1 2 3 4 5 \n",
      "1 2 3 4 5 \n",
      "1 2 3 4 5 \n"
     ]
    }
   ],
   "source": [
    "\n",
    "n0 = 1\n",
    "while n0<=5:\n",
    "    n =1\n",
    "    while n<=5:\n",
    "       print(str(n),end = \" \")\n",
    "       n+=1\n",
    "    n0+=1\n",
    "    print()\n",
    "        "
   ]
  },
  {
   "cell_type": "code",
   "execution_count": 9,
   "id": "850bd743-277e-4f72-aebd-5ad8fcdb15d9",
   "metadata": {},
   "outputs": [
    {
     "name": "stdout",
     "output_type": "stream",
     "text": [
      "1 1 1 1 1 \n",
      "2 2 2 2 2 \n",
      "3 3 3 3 3 \n",
      "4 4 4 4 4 \n",
      "5 5 5 5 5 \n"
     ]
    }
   ],
   "source": [
    "n0 = 1\n",
    "while n0<=5:\n",
    "    n =1\n",
    "    while n<=5:\n",
    "       print(str(n0),end = \" \")\n",
    "       n+=1\n",
    "    n0+=1\n",
    "    print()"
   ]
  },
  {
   "cell_type": "code",
   "execution_count": 12,
   "id": "4f92d2d7-06d8-4ebc-a5b1-47a5a8a4d5e6",
   "metadata": {},
   "outputs": [
    {
     "name": "stdout",
     "output_type": "stream",
     "text": [
      "1 2 3 4 5 "
     ]
    }
   ],
   "source": [
    " n =1\n",
    "while n<=5:\n",
    "    print(str(n),end = \" \")\n",
    "    n+=1"
   ]
  },
  {
   "cell_type": "code",
   "execution_count": 55,
   "id": "0f58d60f-055b-47aa-92d1-d9f2023b491e",
   "metadata": {},
   "outputs": [
    {
     "name": "stdout",
     "output_type": "stream",
     "text": [
      "1 2 3 4 5 \n",
      "1 2 3 4 5 \n",
      "1 2 3 4 5 \n",
      "1 2 3 4 5 \n",
      "1 2 3 4 5 \n"
     ]
    }
   ],
   "source": [
    "for i in range(1,6):\n",
    "   for j in range(1,6):\n",
    "        print(j,end = \" \")\n",
    "   print()"
   ]
  },
  {
   "cell_type": "code",
   "execution_count": 54,
   "id": "e7464696-a380-44f2-83fb-306a78942793",
   "metadata": {},
   "outputs": [
    {
     "name": "stdout",
     "output_type": "stream",
     "text": [
      "1 2 3 4 5 \n",
      "1 2 3 4 5 \n",
      "1 2 3 4 5 \n",
      "1 2 3 4 5 \n",
      "1 2 3 4 5 \n"
     ]
    }
   ],
   "source": [
    "for i in range(1,6):\n",
    "    for j in range(1,6):\n",
    "        print(j,end = \" \")\n",
    "    print()"
   ]
  },
  {
   "cell_type": "code",
   "execution_count": 53,
   "id": "8057d638-ece5-4c3c-ad4a-d25b1c7241ab",
   "metadata": {},
   "outputs": [
    {
     "name": "stdout",
     "output_type": "stream",
     "text": [
      "A A A \n",
      "B B B \n",
      "C C C \n"
     ]
    }
   ],
   "source": [
    "n = [\"A\",\"B\",\"C\"]\n",
    "for i in n:\n",
    "    for j in n:\n",
    "        print(i,end = \" \")\n",
    "    print()"
   ]
  },
  {
   "cell_type": "code",
   "execution_count": 56,
   "id": "a8b2fa1b-d94a-4711-886b-c538b5a82f87",
   "metadata": {},
   "outputs": [
    {
     "name": "stdout",
     "output_type": "stream",
     "text": [
      "A B C \n",
      "A B C \n",
      "A B C \n"
     ]
    }
   ],
   "source": [
    "n = [\"A\",\"B\",\"C\"]\n",
    "for i in n:\n",
    "    for j in n:\n",
    "        print(j,end = \" \")\n",
    "    print()"
   ]
  },
  {
   "cell_type": "code",
   "execution_count": 71,
   "id": "a1fbfa27-b1b2-43ca-bfca-82e8d61c18ae",
   "metadata": {},
   "outputs": [
    {
     "name": "stdout",
     "output_type": "stream",
     "text": [
      "ABCDEF\n",
      "ABCDEF\n",
      "ABCDEF\n",
      "ABCDEF\n",
      "ABCDEF\n",
      "ABCDEF\n"
     ]
    }
   ],
   "source": [
    "n0 = 0\n",
    "while n0<=5:\n",
    "    n = 0\n",
    "    while n<=5:\n",
    "        print(chr(65+n),end = \" \")\n",
    "        n+=1\n",
    "    n0+=1\n",
    "    print()"
   ]
  },
  {
   "cell_type": "code",
   "execution_count": 73,
   "id": "a4fca9d5-06ff-48d9-985b-49a448376ccb",
   "metadata": {},
   "outputs": [
    {
     "name": "stdout",
     "output_type": "stream",
     "text": [
      "A A A A A A \n",
      "B B B B B B \n",
      "C C C C C C \n",
      "D D D D D D \n",
      "E E E E E E \n",
      "F F F F F F \n"
     ]
    }
   ],
   "source": [
    "n0 = 0\n",
    "while n0<=5:\n",
    "    n = 0\n",
    "    while n<=5:\n",
    "        print(chr(65+n0),end = \" \")\n",
    "        n+=1\n",
    "    n0+=1\n",
    "    print()"
   ]
  },
  {
   "cell_type": "code",
   "execution_count": 74,
   "id": "a95c3c2e-5ddb-411c-9150-871abf706f09",
   "metadata": {},
   "outputs": [
    {
     "name": "stdout",
     "output_type": "stream",
     "text": [
      "55555\n",
      "44444\n",
      "33333\n",
      "22222\n",
      "11111\n"
     ]
    }
   ],
   "source": [
    "n = 6\n",
    "for i in range(n-1,0,-1):\n",
    "    for j in range(n-1,0,-1):\n",
    "        print(i,end = \"\")\n",
    "    print()"
   ]
  },
  {
   "cell_type": "code",
   "execution_count": 75,
   "id": "399e89c7-2ccb-43b3-a632-be5f3334c985",
   "metadata": {},
   "outputs": [
    {
     "name": "stdout",
     "output_type": "stream",
     "text": [
      "54321\n",
      "54321\n",
      "54321\n",
      "54321\n",
      "54321\n"
     ]
    }
   ],
   "source": [
    "n = 6\n",
    "for i in range(n-1,0,-1):\n",
    "    for j in range(n-1,0,-1):\n",
    "        print(j,end = \"\")\n",
    "    print()"
   ]
  },
  {
   "cell_type": "code",
   "execution_count": 1,
   "id": "bbef5336-3731-4df5-8840-63fbbcbdfda0",
   "metadata": {},
   "outputs": [
    {
     "name": "stdout",
     "output_type": "stream",
     "text": [
      "5 4 3 2 1 \n",
      "5 4 3 2 1 \n",
      "5 4 3 2 1 \n",
      "5 4 3 2 1 \n",
      "5 4 3 2 1 \n"
     ]
    }
   ],
   "source": [
    "n1 = 5\n",
    "while n1>=1:\n",
    "    n = 5\n",
    "    while n>=1:\n",
    "        print(n,end = \" \")\n",
    "        n-=1\n",
    "    n1-=1\n",
    "    print()"
   ]
  },
  {
   "cell_type": "code",
   "execution_count": 2,
   "id": "121e8f31-f47c-4633-a80b-a960b7a66e85",
   "metadata": {},
   "outputs": [
    {
     "name": "stdout",
     "output_type": "stream",
     "text": [
      "5 5 5 5 5 \n",
      "4 4 4 4 4 \n",
      "3 3 3 3 3 \n",
      "2 2 2 2 2 \n",
      "1 1 1 1 1 \n"
     ]
    }
   ],
   "source": [
    "n1 = 5\n",
    "while n1>=1:\n",
    "    n = 5\n",
    "    while n>=1:\n",
    "        print(n1,end = \" \")\n",
    "        n-=1\n",
    "    n1-=1\n",
    "    print()"
   ]
  },
  {
   "cell_type": "code",
   "execution_count": 5,
   "id": "e22772ae-2650-4c21-9402-46293f217cf2",
   "metadata": {},
   "outputs": [
    {
     "name": "stdout",
     "output_type": "stream",
     "text": [
      "F F F F F F \n",
      "E E E E E E \n",
      "D D D D D D \n",
      "C C C C C C \n",
      "B B B B B B \n",
      "A A A A A A \n"
     ]
    }
   ],
   "source": [
    "n = [\"A\",\"B\",\"C\",\"D\",\"E\",\"F\"]\n",
    "for i in n[::-1]:\n",
    "    for j in n[::-1]:\n",
    "        print(i,end = \" \")\n",
    "    print()"
   ]
  },
  {
   "cell_type": "code",
   "execution_count": 6,
   "id": "329c26c1-02a4-43f1-bab1-3a11ea21b803",
   "metadata": {},
   "outputs": [
    {
     "name": "stdout",
     "output_type": "stream",
     "text": [
      "F E D C B A \n",
      "F E D C B A \n",
      "F E D C B A \n",
      "F E D C B A \n",
      "F E D C B A \n",
      "F E D C B A \n"
     ]
    }
   ],
   "source": [
    "n = [\"A\",\"B\",\"C\",\"D\",\"E\",\"F\"]\n",
    "for i in n[::-1]:\n",
    "    for j in n[::-1]:\n",
    "        print(j,end = \" \")\n",
    "    print()"
   ]
  },
  {
   "cell_type": "code",
   "execution_count": 7,
   "id": "547c6372-ecee-427d-b2c6-42dfc03d7191",
   "metadata": {},
   "outputs": [
    {
     "name": "stdout",
     "output_type": "stream",
     "text": [
      "*\n",
      "**\n",
      "***\n",
      "****\n",
      "*****\n"
     ]
    }
   ],
   "source": [
    "n = 6\n",
    "for i in range(1,n):\n",
    "    print(\"*\"*i)"
   ]
  },
  {
   "cell_type": "code",
   "execution_count": 5,
   "id": "332648ba-8c17-4b57-8019-4ca309d60539",
   "metadata": {},
   "outputs": [
    {
     "name": "stdout",
     "output_type": "stream",
     "text": [
      "*\n",
      "**\n",
      "***\n",
      "****\n",
      "*****\n"
     ]
    }
   ],
   "source": [
    "n = 1\n",
    "while n<6:\n",
    "    print(\"*\"*n)\n",
    "    n+=1"
   ]
  },
  {
   "cell_type": "code",
   "execution_count": 25,
   "id": "c3b55623-65c8-47af-a4ab-618a0bfe1d3b",
   "metadata": {},
   "outputs": [
    {
     "name": "stdout",
     "output_type": "stream",
     "text": [
      "\n",
      "1 \n",
      "2 2 \n",
      "3 3 3 \n",
      "4 4 4 4 \n",
      "5 5 5 5 5 \n"
     ]
    }
   ],
   "source": [
    "n = 6\n",
    "for i in range(0,n):\n",
    "    for j in range(0,i):\n",
    "        print(str(i),end = \" \")\n",
    "    print()"
   ]
  },
  {
   "cell_type": "code",
   "execution_count": 27,
   "id": "ac40ef44-6f13-41c2-a234-d6ae73bd04f2",
   "metadata": {},
   "outputs": [
    {
     "name": "stdout",
     "output_type": "stream",
     "text": [
      "\n",
      "\n",
      "1 \n",
      "1 2 \n",
      "1 2 3 \n",
      "1 2 3 4 \n"
     ]
    }
   ],
   "source": [
    "n = 6\n",
    "for i in range(0,n):\n",
    "    for j in range(1,i):\n",
    "        print(str(j),end = \" \")\n",
    "    print()"
   ]
  },
  {
   "cell_type": "code",
   "execution_count": 38,
   "id": "0ecb4f95-0c42-4308-b21c-1448483046c7",
   "metadata": {},
   "outputs": [
    {
     "name": "stdout",
     "output_type": "stream",
     "text": [
      "1\n",
      "22\n",
      "333\n",
      "4444\n",
      "55555\n"
     ]
    }
   ],
   "source": [
    "\n",
    "    n = 1\n",
    "    while n<=5:\n",
    "          print(str(n)*n)\n",
    "          n+=1\n"
   ]
  },
  {
   "cell_type": "code",
   "execution_count": null,
   "id": "e55fae4a-0104-4777-a857-c58763a524a3",
   "metadata": {},
   "outputs": [],
   "source": [
    "  n = 1\n",
    "    while n<=5:\n",
    "          print(str(n)*n)\n",
    "          n+=1"
   ]
  },
  {
   "cell_type": "code",
   "execution_count": 19,
   "id": "f37a2867-d735-4c38-8126-3360ae251ec5",
   "metadata": {},
   "outputs": [
    {
     "name": "stdout",
     "output_type": "stream",
     "text": [
      "A\n",
      "A\n",
      "A\n",
      "A\n",
      "A\n",
      "\n",
      "\n",
      "\n",
      "\n",
      "\n",
      "\n",
      "\n",
      "ÃÃÃ\n",
      "ÃÃÃ\n",
      "ÃÃÃ\n",
      "ÃÃÃ\n",
      "ÃÃÃ\n",
      "\n",
      "ĄĄĄĄ\n",
      "ĄĄĄĄ\n",
      "ĄĄĄĄ\n",
      "ĄĄĄĄ\n",
      "ĄĄĄĄ\n",
      "\n",
      "ŅŅŅŅŅ\n",
      "ŅŅŅŅŅ\n",
      "ŅŅŅŅŅ\n",
      "ŅŅŅŅŅ\n",
      "ŅŅŅŅŅ\n",
      "\n"
     ]
    }
   ],
   "source": [
    "n = 6\n",
    "for i in range(1,n):\n",
    "    for j in range(1,n):\n",
    "        print(chr(65*i)*i)\n",
    "    print()"
   ]
  },
  {
   "cell_type": "code",
   "execution_count": 20,
   "id": "032e640d-0534-4aa0-a4fc-3693a75224a3",
   "metadata": {},
   "outputs": [
    {
     "name": "stdout",
     "output_type": "stream",
     "text": [
      "*****\n",
      "****\n",
      "***\n",
      "**\n",
      "*\n"
     ]
    }
   ],
   "source": [
    "for  i in range(n-1,0,-1):\n",
    "    print(\"*\"*i)"
   ]
  },
  {
   "cell_type": "code",
   "execution_count": 1,
   "id": "e8784457-4711-4bca-bdda-dd8687609d40",
   "metadata": {},
   "outputs": [
    {
     "name": "stdout",
     "output_type": "stream",
     "text": [
      "*****\n",
      "****\n",
      "***\n",
      "**\n",
      "*\n",
      "\n"
     ]
    }
   ],
   "source": [
    "n =5\n",
    "while n>=0:\n",
    "    print(\"*\"*n)\n",
    "    n-=1"
   ]
  },
  {
   "cell_type": "code",
   "execution_count": 20,
   "id": "c4d6855f-c6f3-40d3-bde2-0e50b3dac4dc",
   "metadata": {},
   "outputs": [
    {
     "name": "stdout",
     "output_type": "stream",
     "text": [
      "\n",
      "1 \n",
      "2 2 \n",
      "3 3 3 \n",
      "4 4 4 4 \n",
      "5 5 5 5 5 \n"
     ]
    }
   ],
   "source": [
    "n = 6\n",
    "for i in range(0,n):\n",
    "    for j in range(0,i):\n",
    "        print(str(i),end = \" \")\n",
    "    print()"
   ]
  },
  {
   "cell_type": "code",
   "execution_count": 35,
   "id": "10e056d8-dbf3-4e70-95f8-bd720e7c13ed",
   "metadata": {},
   "outputs": [
    {
     "name": "stdout",
     "output_type": "stream",
     "text": [
      "1 1 1 1 1 \n",
      "2 2 2 2 \n",
      "3 3 3 \n",
      "4 4 \n",
      "5 \n"
     ]
    }
   ],
   "source": [
    "n = 5\n",
    "for i in range(1,n+1):\n",
    "    for j in range(n - i+1):\n",
    "        print(str(),end = \" \")\n",
    "    print()"
   ]
  },
  {
   "cell_type": "code",
   "execution_count": 34,
   "id": "ebe88fac-a6fa-4cf8-9041-d30e6198211e",
   "metadata": {},
   "outputs": [
    {
     "name": "stdout",
     "output_type": "stream",
     "text": [
      "1 1 1 1 1 \n",
      "2 2 2 2 \n",
      "3 3 3 \n",
      "4 4 \n",
      "5 \n"
     ]
    }
   ],
   "source": [
    "n = 5\n",
    "for i in range(1, n + 1):  # Start from 1 and go up to n\n",
    "    for j in range(n - i + 1):  # Decrease the number of printed elements\n",
    "        print(i, end=\" \")\n",
    "    print()\n"
   ]
  },
  {
   "cell_type": "code",
   "execution_count": 2,
   "id": "66404396-a88f-4881-a140-cc1e783ce1fb",
   "metadata": {},
   "outputs": [
    {
     "name": "stdout",
     "output_type": "stream",
     "text": [
      "\n",
      "A \n",
      "A B \n",
      "A B C \n",
      "A B C D \n",
      "A B C D E \n"
     ]
    }
   ],
   "source": [
    "for j in range(0,6):\n",
    "    for i in range(0,j):\n",
    "        print(chr(65+i),end = \" \")\n",
    "    print()   "
   ]
  },
  {
   "cell_type": "code",
   "execution_count": 7,
   "id": "e921b2ef-bb19-4050-9ac6-5f07a5ed2ac1",
   "metadata": {},
   "outputs": [
    {
     "name": "stdout",
     "output_type": "stream",
     "text": [
      "\n",
      "A \n",
      "B B \n",
      "C C C \n",
      "D D D D \n",
      "E E E E E \n"
     ]
    }
   ],
   "source": [
    "for j in range(0,6):\n",
    "    for i in range(0,j):\n",
    "        print(chr(64+j),end = \" \")\n",
    "    print()   "
   ]
  },
  {
   "cell_type": "code",
   "execution_count": 2,
   "id": "4a4dda18-0264-409f-a1e4-8b4dfc1e05a3",
   "metadata": {},
   "outputs": [
    {
     "name": "stdout",
     "output_type": "stream",
     "text": [
      "A \n",
      "A B \n",
      "A B C \n",
      "A B C D \n",
      "A B C D E \n"
     ]
    }
   ],
   "source": [
    "n1 =0\n",
    "while n1<5:\n",
    "    n = 0\n",
    "    while n<=n1:\n",
    "        print(chr(65+n),end = \" \")\n",
    "        n+=1\n",
    "    n1+=1\n",
    "    print()"
   ]
  },
  {
   "cell_type": "code",
   "execution_count": 19,
   "id": "0ca19c49-542b-41bf-b007-36b56d99b9db",
   "metadata": {},
   "outputs": [
    {
     "name": "stdout",
     "output_type": "stream",
     "text": [
      "A\n",
      "BB\n",
      "CCC\n",
      "DDDD\n",
      "EEEEE\n"
     ]
    }
   ],
   "source": [
    "n = 1\n",
    "while n<=5:\n",
    "    print(chr(64+n)*n)\n",
    "    n+=1"
   ]
  },
  {
   "cell_type": "code",
   "execution_count": 48,
   "id": "5f279d2a-e927-4682-b017-7bb3ed45ba87",
   "metadata": {},
   "outputs": [
    {
     "name": "stdout",
     "output_type": "stream",
     "text": [
      "1 1 1 1 1 \n",
      "2 2 2 2 \n",
      "3 3 3 \n",
      "4 4 \n",
      "5 \n"
     ]
    }
   ],
   "source": [
    "for i in range(1,6):\n",
    "    for j in range(1,7-i):\n",
    "        print(i,end=\" \")\n",
    "    print()"
   ]
  },
  {
   "cell_type": "code",
   "execution_count": 53,
   "id": "fd3f33e5-981e-4168-b831-c26ddd2536fd",
   "metadata": {},
   "outputs": [
    {
     "name": "stdout",
     "output_type": "stream",
     "text": [
      "1 1 1 1 1 \n",
      "2 2 2 2 \n",
      "3 3 3 \n",
      "4 4 \n",
      "5 \n"
     ]
    }
   ],
   "source": [
    "for i in range(1,6):\n",
    "    for j in range(1,6-i+1):\n",
    "        print(i,end = \" \")\n",
    "    print()"
   ]
  },
  {
   "cell_type": "code",
   "execution_count": 6,
   "id": "d0828010-c4bf-4c11-9e21-3c007caa9cde",
   "metadata": {},
   "outputs": [
    {
     "name": "stdout",
     "output_type": "stream",
     "text": [
      "1 2 3 4 5 1 2 3 4 5 1 2 3 4 5 1 2 3 4 5 1 2 3 4 5 "
     ]
    }
   ],
   "source": [
    "n1 = 1\n",
    "while n1<=5:\n",
    "    n = 1\n",
    "    while n<=5:\n",
    "        print(n-,end = \" \")\n",
    "        n+=1\n",
    "    n1+=1"
   ]
  },
  {
   "cell_type": "code",
   "execution_count": null,
   "id": "2f0db822-e53c-431d-b8f8-3d2cb481b9e3",
   "metadata": {},
   "outputs": [],
   "source": []
  }
 ],
 "metadata": {
  "kernelspec": {
   "display_name": "Python 3 (ipykernel)",
   "language": "python",
   "name": "python3"
  },
  "language_info": {
   "codemirror_mode": {
    "name": "ipython",
    "version": 3
   },
   "file_extension": ".py",
   "mimetype": "text/x-python",
   "name": "python",
   "nbconvert_exporter": "python",
   "pygments_lexer": "ipython3",
   "version": "3.12.7"
  }
 },
 "nbformat": 4,
 "nbformat_minor": 5
}
