{
 "cells": [
  {
   "cell_type": "code",
   "execution_count": 3,
   "id": "1bb8b297-7f1c-41f2-bfac-3bf8a7019b43",
   "metadata": {},
   "outputs": [
    {
     "name": "stdin",
     "output_type": "stream",
     "text": [
      "enter the number: 5\n"
     ]
    },
    {
     "name": "stdout",
     "output_type": "stream",
     "text": [
      "*****\n",
      "*****\n",
      "*****\n",
      "*****\n",
      "*****\n"
     ]
    }
   ],
   "source": [
    "n = int(input(\"enter the number:\"))\n",
    "for i in range(n):\n",
    "    print(\"*\"* n)"
   ]
  },
  {
   "cell_type": "code",
   "execution_count": 5,
   "id": "cb992e2a-83cc-4583-a38e-cbd40876923c",
   "metadata": {},
   "outputs": [
    {
     "name": "stdin",
     "output_type": "stream",
     "text": [
      "enter the number: 5\n"
     ]
    },
    {
     "name": "stdout",
     "output_type": "stream",
     "text": [
      "*\n",
      "**\n",
      "***\n",
      "****\n",
      "*****\n"
     ]
    }
   ],
   "source": [
    "n = int(input(\"enter the number:\"))\n",
    "for i in range(1,n+1):\n",
    "    print(\"*\"* i)"
   ]
  },
  {
   "cell_type": "code",
   "execution_count": 6,
   "id": "f913f8bd-a23f-4552-8d8c-5328e0aa0038",
   "metadata": {},
   "outputs": [
    {
     "name": "stdin",
     "output_type": "stream",
     "text": [
      "enter the number: 5\n"
     ]
    },
    {
     "name": "stdout",
     "output_type": "stream",
     "text": [
      "*****\n",
      "****\n",
      "***\n",
      "**\n",
      "*\n"
     ]
    }
   ],
   "source": [
    "n = int(input(\"enter the number:\"))\n",
    "for i in range(n,0,-1):\n",
    "    print(\"*\"* i)"
   ]
  },
  {
   "cell_type": "code",
   "execution_count": 12,
   "id": "d3ae8046-ed83-4858-9a99-1de7a53a3faf",
   "metadata": {},
   "outputs": [
    {
     "name": "stdout",
     "output_type": "stream",
     "text": [
      "***********\n",
      " *********\n",
      "  *******\n",
      "   *****\n",
      "    ***\n",
      "     *\n"
     ]
    }
   ],
   "source": [
    "n = 6\n",
    "for i in range(n-1,-1,-1):\n",
    "    print(\" \" *(n-i-1) + \"*\"*(2*i+1))"
   ]
  },
  {
   "cell_type": "code",
   "execution_count": 3,
   "id": "f889e904-ab3c-4a93-9e1f-760db1954523",
   "metadata": {},
   "outputs": [
    {
     "name": "stdout",
     "output_type": "stream",
     "text": [
      "11111 22222 33333 44444 "
     ]
    }
   ],
   "source": [
    "for i in range(1,5):\n",
    "    print(str(i)*5,end=\" \")"
   ]
  },
  {
   "cell_type": "code",
   "execution_count": null,
   "id": "80de953c-9ba6-4ec6-a565-7de2c3a5ea08",
   "metadata": {},
   "outputs": [],
   "source": [
    "n = 0\n",
    "while "
   ]
  },
  {
   "cell_type": "code",
   "execution_count": 7,
   "id": "6813896e-dc08-4bd2-8614-e1848d4ef9d1",
   "metadata": {},
   "outputs": [
    {
     "name": "stdout",
     "output_type": "stream",
     "text": [
      "00000\n",
      "11111\n",
      "22222\n",
      "33333\n",
      "44444\n"
     ]
    }
   ],
   "source": [
    "start_condition = 0\n",
    "while start_condition<5:\n",
    "    print(str(start_condition)*5)\n",
    "    start_condition = start_condition + 1"
   ]
  },
  {
   "cell_type": "code",
   "execution_count": 6,
   "id": "52c775ad-7a87-43ab-b745-56d8d906ddb7",
   "metadata": {},
   "outputs": [
    {
     "data": {
      "text/plain": [
       "5"
      ]
     },
     "execution_count": 6,
     "metadata": {},
     "output_type": "execute_result"
    }
   ],
   "source": [
    "start_condition"
   ]
  },
  {
   "cell_type": "code",
   "execution_count": 49,
   "id": "f12b3426-eeed-40e9-9593-346e1d88f519",
   "metadata": {},
   "outputs": [
    {
     "name": "stdout",
     "output_type": "stream",
     "text": [
      "12345\n",
      "12345\n",
      "12345\n",
      "12345\n",
      "12345\n"
     ]
    }
   ],
   "source": [
    "for i in range(1,n+1):\n",
    "    for j in range(1,n+1):\n",
    "        print(j,end = \"\")\n",
    "    print()"
   ]
  },
  {
   "cell_type": "code",
   "execution_count": 39,
   "id": "b3f9bb34-0984-4c9a-ab18-2df8d78aef6c",
   "metadata": {},
   "outputs": [
    {
     "name": "stdout",
     "output_type": "stream",
     "text": [
      "1 2 3 4 5 \n",
      "1 2 3 4 5 \n",
      "1 2 3 4 5 \n",
      "1 2 3 4 5 \n",
      "1 2 3 4 5 \n"
     ]
    }
   ],
   "source": [
    "for i in range(1,6):\n",
    "    for j in range(1,6):\n",
    "        print(j,end = \" \")\n",
    "    print()"
   ]
  },
  {
   "cell_type": "code",
   "execution_count": 44,
   "id": "cdf3d1e5-0d15-46c0-bcc4-1d604f8a3ea6",
   "metadata": {},
   "outputs": [
    {
     "name": "stdout",
     "output_type": "stream",
     "text": [
      "C C C \n",
      "B B B \n",
      "A A A \n"
     ]
    }
   ],
   "source": [
    "a = [\"A\",\"B\",\"C\"]\n",
    "for i in a[::-1]:\n",
    "    for j in a:\n",
    "        print(i,end = \" \")\n",
    "    print()"
   ]
  },
  {
   "cell_type": "code",
   "execution_count": null,
   "id": "9475525b-386f-4164-befd-4dab7ff25055",
   "metadata": {},
   "outputs": [],
   "source": []
  },
  {
   "cell_type": "code",
   "execution_count": 39,
   "id": "d3085164-0d64-4772-b6e0-970a016423cf",
   "metadata": {},
   "outputs": [
    {
     "name": "stdout",
     "output_type": "stream",
     "text": [
      "\n",
      "*\n",
      "**\n",
      "***\n",
      "****\n",
      "*****\n"
     ]
    }
   ],
   "source": [
    "n = 6\n",
    "for i in range(n):\n",
    "    print(\"*\"*i)"
   ]
  },
  {
   "cell_type": "code",
   "execution_count": 53,
   "id": "91991fe3-fed2-4e12-9a49-188bdf5bde69",
   "metadata": {},
   "outputs": [
    {
     "name": "stdout",
     "output_type": "stream",
     "text": [
      "1\n",
      "22\n",
      "333\n",
      "4444\n",
      "55555\n"
     ]
    }
   ],
   "source": [
    "n = 6\n",
    "for i in range(1,n):\n",
    "    print(str(i)*i)"
   ]
  },
  {
   "cell_type": "code",
   "execution_count": 64,
   "id": "d8ce034f-bde0-40cb-bcf3-2ef048787f6c",
   "metadata": {},
   "outputs": [
    {
     "name": "stdout",
     "output_type": "stream",
     "text": [
      "\n",
      "1\n",
      "12\n",
      "123\n",
      "1234\n",
      "12345\n"
     ]
    }
   ],
   "source": [
    "n = 6\n",
    "for i in range(0,n):\n",
    "    print(\"\".join(str(j)for j in range(1,i+1)))"
   ]
  },
  {
   "cell_type": "code",
   "execution_count": 78,
   "id": "9add9503-5734-4860-b9e4-74c43e53d6c5",
   "metadata": {},
   "outputs": [
    {
     "ename": "TypeError",
     "evalue": "can't multiply sequence by non-int of type 'str'",
     "output_type": "error",
     "traceback": [
      "\u001b[1;31m---------------------------------------------------------------------------\u001b[0m",
      "\u001b[1;31mTypeError\u001b[0m                                 Traceback (most recent call last)",
      "Cell \u001b[1;32mIn[78], line 3\u001b[0m\n\u001b[0;32m      1\u001b[0m n \u001b[38;5;241m=\u001b[39m \u001b[38;5;124m\"\u001b[39m\u001b[38;5;124mABCDEF\u001b[39m\u001b[38;5;124m\"\u001b[39m\n\u001b[0;32m      2\u001b[0m \u001b[38;5;28;01mfor\u001b[39;00m i \u001b[38;5;129;01min\u001b[39;00m n:\n\u001b[1;32m----> 3\u001b[0m     \u001b[38;5;28mprint\u001b[39m(i\u001b[38;5;241m*\u001b[39m\u001b[38;5;124m\"\u001b[39m\u001b[38;5;124m*\u001b[39m\u001b[38;5;124m\"\u001b[39m)\n",
      "\u001b[1;31mTypeError\u001b[0m: can't multiply sequence by non-int of type 'str'"
     ]
    }
   ],
   "source": [
    "n = \"ABCDEF\"\n",
    "for i in n:\n",
    "    print"
   ]
  },
  {
   "cell_type": "code",
   "execution_count": 83,
   "id": "a8da7a0b-99b8-4446-a59a-24d47e8afceb",
   "metadata": {},
   "outputs": [
    {
     "name": "stdout",
     "output_type": "stream",
     "text": [
      "*****\n",
      "****\n",
      "***\n",
      "**\n",
      "*\n"
     ]
    }
   ],
   "source": [
    "n = 5\n",
    "for i in range(n,0,-1):\n",
    "    print(\"*\"*i)"
   ]
  },
  {
   "cell_type": "code",
   "execution_count": 84,
   "id": "66139df6-ded8-44a2-9a2b-85f471d985e5",
   "metadata": {},
   "outputs": [
    {
     "name": "stdout",
     "output_type": "stream",
     "text": [
      "55555\n",
      "4444\n",
      "333\n",
      "22\n",
      "1\n"
     ]
    }
   ],
   "source": [
    "n = 5\n",
    "for i in range(n,0,-1):\n",
    "    print(str(i)*i)"
   ]
  },
  {
   "cell_type": "code",
   "execution_count": 54,
   "id": "b0e831d1-3f70-46c1-8655-64d691464e42",
   "metadata": {},
   "outputs": [
    {
     "name": "stdout",
     "output_type": "stream",
     "text": [
      "AAAA\n",
      "BBBB\n",
      "CCCC\n",
      "DDDD\n"
     ]
    }
   ],
   "source": [
    "a = [\"A\",\"B\",\"C\",\"D\"]\n",
    "for i in a:\n",
    "    for j in a:\n",
    "        print(i,end = \"\")\n",
    "    print()"
   ]
  },
  {
   "cell_type": "code",
   "execution_count": 70,
   "id": "802d5a14-ff0c-4d20-b655-ddec52b2a8a4",
   "metadata": {},
   "outputs": [
    {
     "name": "stdout",
     "output_type": "stream",
     "text": [
      "1\n",
      "12\n",
      "123\n",
      "1234\n",
      "12345\n"
     ]
    }
   ],
   "source": [
    "n =5\n",
    "for i in range(1,n+1):\n",
    "    for j in range(1,i+1):\n",
    "        print(j,end = \"\")\n",
    "    print()"
   ]
  },
  {
   "cell_type": "code",
   "execution_count": 110,
   "id": "d591c470-01ff-4e09-861f-720ae2cfdbf0",
   "metadata": {},
   "outputs": [
    {
     "data": {
      "text/plain": [
       "65"
      ]
     },
     "execution_count": 110,
     "metadata": {},
     "output_type": "execute_result"
    }
   ],
   "source": [
    "ord('A')"
   ]
  },
  {
   "cell_type": "code",
   "execution_count": 120,
   "id": "ed5b4d17-035d-407a-9675-17a95c7fbe34",
   "metadata": {},
   "outputs": [
    {
     "data": {
      "text/plain": [
       "'Z'"
      ]
     },
     "execution_count": 120,
     "metadata": {},
     "output_type": "execute_result"
    }
   ],
   "source": [
    "chr(65+25)"
   ]
  },
  {
   "cell_type": "code",
   "execution_count": 112,
   "id": "0fbe40cf-90e4-40bc-8cdb-e8dafe120d58",
   "metadata": {},
   "outputs": [
    {
     "data": {
      "text/plain": [
       "'F'"
      ]
     },
     "execution_count": 112,
     "metadata": {},
     "output_type": "execute_result"
    }
   ],
   "source": [
    "chr(70)"
   ]
  },
  {
   "cell_type": "code",
   "execution_count": 114,
   "id": "3d774971-482c-49e8-9c07-abef88b58c1f",
   "metadata": {},
   "outputs": [
    {
     "name": "stdout",
     "output_type": "stream",
     "text": [
      "ABCDEF\n",
      "ABCDEF\n",
      "ABCDEF\n",
      "ABCDEF\n",
      "ABCDEF\n",
      "ABCDEF\n"
     ]
    }
   ],
   "source": [
    "#n= 10\n",
    "i = 0\n",
    "n = 5\n",
    "while i <= n:\n",
    "    j = 0\n",
    "    while j <=n:\n",
    "        print(chr(65+j), end = '')\n",
    "        j+=1\n",
    "    print()\n",
    "    i+=1"
   ]
  },
  {
   "cell_type": "code",
   "execution_count": 127,
   "id": "ab4d9722-c278-40cf-8a92-996c9b66ca92",
   "metadata": {},
   "outputs": [
    {
     "name": "stdout",
     "output_type": "stream",
     "text": [
      "AAAAA\n",
      "BBBBB\n",
      "CCCCC\n",
      "DDDDD\n",
      "EEEEE\n",
      "\n"
     ]
    }
   ],
   "source": [
    "n = [\"ABCDE\"]\n",
    "for i in n:\n",
    "    for j in i:\n",
    "        print((j)*5)\n",
    "    print()"
   ]
  },
  {
   "cell_type": "code",
   "execution_count": 133,
   "id": "bafac585-1deb-443d-a42e-a5310d8d67bf",
   "metadata": {},
   "outputs": [
    {
     "name": "stdout",
     "output_type": "stream",
     "text": [
      "AAAAA\n",
      "\n",
      "BBBBB\n",
      "\n",
      "CCCCC\n",
      "\n",
      "DDDDD\n",
      "\n"
     ]
    }
   ],
   "source": [
    "n= [\"A\" ,\"B\",\"C\",\"D\"]\n",
    "for i in n:\n",
    "    for j in i:\n",
    "        print((j)*5)\n",
    "    print()"
   ]
  },
  {
   "cell_type": "code",
   "execution_count": 136,
   "id": "db52dc6e-b10d-4c36-91d0-c8a2c9072a0a",
   "metadata": {},
   "outputs": [
    {
     "ename": "TypeError",
     "evalue": "can't multiply sequence by non-int of type 'str'",
     "output_type": "error",
     "traceback": [
      "\u001b[1;31m---------------------------------------------------------------------------\u001b[0m",
      "\u001b[1;31mTypeError\u001b[0m                                 Traceback (most recent call last)",
      "Cell \u001b[1;32mIn[136], line 4\u001b[0m\n\u001b[0;32m      2\u001b[0m \u001b[38;5;28;01mfor\u001b[39;00m i \u001b[38;5;129;01min\u001b[39;00m s:\n\u001b[0;32m      3\u001b[0m     \u001b[38;5;28;01mfor\u001b[39;00m j \u001b[38;5;129;01min\u001b[39;00m i:\n\u001b[1;32m----> 4\u001b[0m         \u001b[38;5;28mprint\u001b[39m(i\u001b[38;5;241m*\u001b[39mi)\n\u001b[0;32m      5\u001b[0m     \u001b[38;5;28mprint\u001b[39m()\n",
      "\u001b[1;31mTypeError\u001b[0m: can't multiply sequence by non-int of type 'str'"
     ]
    }
   ],
   "source": [
    "s = [\"A\",\"B\",\"C\",\"D\"]\n",
    "for i in s:\n",
    "    for j in i:\n",
    "        print\n",
    "    print()"
   ]
  },
  {
   "attachments": {
    "03fe7203-2eb5-4578-b7e7-42f8a4dd5ff9.png": {
     "image/png": "[encoded data removed]"
    },
    "dc1beecf-be65-4280-af34-976db57cc3f8.png": {
     "image/png": "[encoded data removed]"
    }
   },
   "cell_type": "markdown",
   "id": "1eee9eaa-3a11-4ac4-abae-6c2ae2cdb086",
   "metadata": {},
   "source": [
    "![image.png](attachment:dc1beecf-be65-4280-af34-976db57cc3f8.png)![image.png](attachment:03fe7203-2eb5-4578-b7e7-42f8a4dd5ff9.png)"
   ]
  },
  {
   "cell_type": "code",
   "execution_count": 140,
   "id": "22ed4926-8e92-494c-a215-dd8ee2bffc3f",
   "metadata": {},
   "outputs": [
    {
     "name": "stdout",
     "output_type": "stream",
     "text": [
      "A\n",
      "AB\n",
      "ABC\n",
      "ABCD\n",
      "ABCDE\n",
      "ABCDEF\n"
     ]
    }
   ],
   "source": [
    "i = 0\n",
    "n = 5\n",
    "while i <= n:\n",
    "    j = 0\n",
    "    while j <=i:\n",
    "        print(chr(65+j), end = '')\n",
    "        j+=1\n",
    "        #print()\n",
    "    i+=1\n",
    "    print()"
   ]
  },
  {
   "cell_type": "code",
   "execution_count": 153,
   "id": "f79dd05e-040f-486b-a90d-50674dd373cc",
   "metadata": {},
   "outputs": [
    {
     "name": "stdout",
     "output_type": "stream",
     "text": [
      "A\n",
      "AB\n",
      "ABC\n",
      "ABCD\n",
      "ABCDE\n",
      "ABCDEF\n"
     ]
    }
   ],
   "source": [
    "n =6\n",
    "for i in range(1,n+1):\n",
    "    for j in range(i):\n",
    "        print(chr(65+j),end = \"\")\n",
    "    print()\n",
    "        "
   ]
  },
  {
   "cell_type": "code",
   "execution_count": 151,
   "id": "d0741787-0169-4d86-86ee-5d504d591562",
   "metadata": {},
   "outputs": [
    {
     "name": "stdout",
     "output_type": "stream",
     "text": [
      "A \n",
      "A B \n",
      "A B C \n",
      "A B C D \n",
      "A B C D E \n",
      "A B C D E F \n"
     ]
    }
   ],
   "source": [
    "n = 6\n",
    "for i in range(1, n + 1):\n",
    "    for j in range(i):\n",
    "        print(chr(65 + j), end=\" \")\n",
    "    print()  # Move to the next line after each row\n"
   ]
  },
  {
   "cell_type": "code",
   "execution_count": 2,
   "id": "6626a2e9-14c1-4138-97a3-09eb0f25fb47",
   "metadata": {},
   "outputs": [
    {
     "name": "stdout",
     "output_type": "stream",
     "text": [
      "******\n",
      "*****\n",
      "****\n",
      "***\n",
      "**\n",
      "*\n"
     ]
    }
   ],
   "source": [
    "for i in range(6,0,-1):\n",
    "    print(\"*\"*i)"
   ]
  },
  {
   "cell_type": "code",
   "execution_count": 19,
   "id": "6ea47b1b-1d73-4c0d-8215-bffd68aa667d",
   "metadata": {},
   "outputs": [
    {
     "name": "stdout",
     "output_type": "stream",
     "text": [
      "11111\n",
      "2222\n",
      "333\n",
      "44\n",
      "5\n"
     ]
    }
   ],
   "source": [
    "n =5\n",
    "for i in range(1,6):\n",
    "    print(n*str(i))\n",
    "    n-=1\n",
    "     "
   ]
  },
  {
   "cell_type": "code",
   "execution_count": null,
   "id": "b6e5f396-c451-4281-b4f9-1a801051a012",
   "metadata": {},
   "outputs": [],
   "source": []
  }
 ],
 "metadata": {
  "kernelspec": {
   "display_name": "Python 3 (ipykernel)",
   "language": "python",
   "name": "python3"
  },
  "language_info": {
   "codemirror_mode": {
    "name": "ipython",
    "version": 3
   },
   "file_extension": ".py",
   "mimetype": "text/x-python",
   "name": "python",
   "nbconvert_exporter": "python",
   "pygments_lexer": "ipython3",
   "version": "3.12.7"
  }
 },
 "nbformat": 4,
 "nbformat_minor": 5
}
